{
  "nbformat": 4,
  "nbformat_minor": 0,
  "metadata": {
    "colab": {
      "name": "FCA Data Science Task.ipynb",
      "provenance": []
    },
    "kernelspec": {
      "name": "python3",
      "display_name": "Python 3"
    },
    "language_info": {
      "name": "python"
    }
  },
  "cells": [
    {
      "cell_type": "markdown",
      "source": [
        "**Important information**\n",
        "\n",
        "- Task involves 2 datasets from Portugese banking institution assessing if clients would subscribe to a bank term deposit.\n",
        "\n",
        "- Phone conversations were recorded sometimes with the same person contacted multiple times.\n",
        "\n",
        "- Common feature of both datasets is customer_id, unique number assigned to each customer.\n",
        "\n",
        "**Objectives (first thoughts)**\n",
        "- Predict the takeup of the bank term deposits from customers (Classification task - Logistic Regression, Perceptron)\n",
        "- Cluster customers into groups (Sci-kit make_classification)\n",
        "- Identify how bank could improve take up of the offer (Interpret the clusters and market campaigns towards target groups, PCA)\n",
        "- Any other insights (Interpret matrix scores for classifiers - precision, recall, accuracy, F1)"
      ],
      "metadata": {
        "id": "ni8Sv7I5PyIu"
      }
    },
    {
      "cell_type": "markdown",
      "source": [
        "First lets import libraries and load in the data."
      ],
      "metadata": {
        "id": "PbQDRu2_U9Oe"
      }
    },
    {
      "cell_type": "code",
      "source": [
        "import pandas as pd\n",
        "import numpy as np\n",
        "import matplotlib.pyplot as plt\n",
        "import seaborn as sn\n",
        "from google.colab import drive"
      ],
      "metadata": {
        "id": "0I_dMhIYVAfb"
      },
      "execution_count": null,
      "outputs": []
    },
    {
      "cell_type": "code",
      "source": [
        "drive.mount('/content/drive')"
      ],
      "metadata": {
        "colab": {
          "base_uri": "https://localhost:8080/"
        },
        "id": "LQgKn7O0WQ4c",
        "outputId": "b6ac02d3-7a24-4b38-eedd-a27dae3e0830"
      },
      "execution_count": null,
      "outputs": [
        {
          "output_type": "stream",
          "name": "stdout",
          "text": [
            "Mounted at /content/drive\n"
          ]
        }
      ]
    },
    {
      "cell_type": "code",
      "source": [
        "maindata=pd.read_csv('/content/drive/My Drive/FCA/FCA Main Data.csv')\n",
        "priorcampaigndata=pd.read_csv('/content/drive/My Drive/FCA/FCA prior campaigns data.csv')"
      ],
      "metadata": {
        "id": "6jL8DAwlWTzf"
      },
      "execution_count": null,
      "outputs": []
    },
    {
      "cell_type": "code",
      "source": [
        "maindata=maindata.dropna(how='all')\n",
        "maindata=maindata.reset_index(drop=True)\n",
        "maindata"
      ],
      "metadata": {
        "id": "dlNUuEKBW3Pl",
        "colab": {
          "base_uri": "https://localhost:8080/",
          "height": 540
        },
        "outputId": "6e820441-906f-4704-d815-4588f94ce2e8"
      },
      "execution_count": null,
      "outputs": [
        {
          "output_type": "execute_result",
          "data": {
            "text/html": [
              "\n",
              "  <div id=\"df-10d4003a-3a81-4f0d-9b46-8ef3ed0821e0\">\n",
              "    <div class=\"colab-df-container\">\n",
              "      <div>\n",
              "<style scoped>\n",
              "    .dataframe tbody tr th:only-of-type {\n",
              "        vertical-align: middle;\n",
              "    }\n",
              "\n",
              "    .dataframe tbody tr th {\n",
              "        vertical-align: top;\n",
              "    }\n",
              "\n",
              "    .dataframe thead th {\n",
              "        text-align: right;\n",
              "    }\n",
              "</style>\n",
              "<table border=\"1\" class=\"dataframe\">\n",
              "  <thead>\n",
              "    <tr style=\"text-align: right;\">\n",
              "      <th></th>\n",
              "      <th>cust_id</th>\n",
              "      <th>age</th>\n",
              "      <th>job</th>\n",
              "      <th>marital</th>\n",
              "      <th>education</th>\n",
              "      <th>default</th>\n",
              "      <th>housing</th>\n",
              "      <th>loan</th>\n",
              "      <th>contact</th>\n",
              "      <th>month</th>\n",
              "      <th>day_of_week</th>\n",
              "      <th>duration</th>\n",
              "      <th>campaign</th>\n",
              "      <th>emp.var.rate</th>\n",
              "      <th>cons.price.idx</th>\n",
              "      <th>cons.conf.idx</th>\n",
              "      <th>euribor3m</th>\n",
              "      <th>nr.employed</th>\n",
              "      <th>subscribed</th>\n",
              "    </tr>\n",
              "  </thead>\n",
              "  <tbody>\n",
              "    <tr>\n",
              "      <th>0</th>\n",
              "      <td>15139.0</td>\n",
              "      <td>27.0</td>\n",
              "      <td>student</td>\n",
              "      <td>single</td>\n",
              "      <td>university.degree</td>\n",
              "      <td>no</td>\n",
              "      <td>unknown</td>\n",
              "      <td>unknown</td>\n",
              "      <td>cellular</td>\n",
              "      <td>jul</td>\n",
              "      <td>thu</td>\n",
              "      <td>312.0</td>\n",
              "      <td>1.0</td>\n",
              "      <td>1.4</td>\n",
              "      <td>93.918</td>\n",
              "      <td>-42.7</td>\n",
              "      <td>4.958</td>\n",
              "      <td>5228.1</td>\n",
              "      <td>no</td>\n",
              "    </tr>\n",
              "    <tr>\n",
              "      <th>1</th>\n",
              "      <td>32927.0</td>\n",
              "      <td>49.0</td>\n",
              "      <td>blue-collar</td>\n",
              "      <td>married</td>\n",
              "      <td>basic.9y</td>\n",
              "      <td>unknown</td>\n",
              "      <td>no</td>\n",
              "      <td>yes</td>\n",
              "      <td>cellular</td>\n",
              "      <td>may</td>\n",
              "      <td>mon</td>\n",
              "      <td>290.0</td>\n",
              "      <td>1.0</td>\n",
              "      <td>-1.8</td>\n",
              "      <td>92.893</td>\n",
              "      <td>-46.2</td>\n",
              "      <td>1.299</td>\n",
              "      <td>5099.1</td>\n",
              "      <td>no</td>\n",
              "    </tr>\n",
              "    <tr>\n",
              "      <th>2</th>\n",
              "      <td>26145.0</td>\n",
              "      <td>29.0</td>\n",
              "      <td>services</td>\n",
              "      <td>married</td>\n",
              "      <td>basic.6y</td>\n",
              "      <td>no</td>\n",
              "      <td>no</td>\n",
              "      <td>no</td>\n",
              "      <td>cellular</td>\n",
              "      <td>nov</td>\n",
              "      <td>wed</td>\n",
              "      <td>314.0</td>\n",
              "      <td>2.0</td>\n",
              "      <td>-0.1</td>\n",
              "      <td>93.200</td>\n",
              "      <td>-42.0</td>\n",
              "      <td>4.120</td>\n",
              "      <td>5195.8</td>\n",
              "      <td>no</td>\n",
              "    </tr>\n",
              "    <tr>\n",
              "      <th>3</th>\n",
              "      <td>11224.0</td>\n",
              "      <td>31.0</td>\n",
              "      <td>blue-collar</td>\n",
              "      <td>married</td>\n",
              "      <td>basic.9y</td>\n",
              "      <td>no</td>\n",
              "      <td>no</td>\n",
              "      <td>no</td>\n",
              "      <td>telephone</td>\n",
              "      <td>jun</td>\n",
              "      <td>thu</td>\n",
              "      <td>217.0</td>\n",
              "      <td>2.0</td>\n",
              "      <td>1.4</td>\n",
              "      <td>94.465</td>\n",
              "      <td>-41.8</td>\n",
              "      <td>4.961</td>\n",
              "      <td>5228.1</td>\n",
              "      <td>no</td>\n",
              "    </tr>\n",
              "    <tr>\n",
              "      <th>4</th>\n",
              "      <td>35458.0</td>\n",
              "      <td>36.0</td>\n",
              "      <td>admin.</td>\n",
              "      <td>single</td>\n",
              "      <td>unknown</td>\n",
              "      <td>no</td>\n",
              "      <td>yes</td>\n",
              "      <td>no</td>\n",
              "      <td>cellular</td>\n",
              "      <td>may</td>\n",
              "      <td>mon</td>\n",
              "      <td>222.0</td>\n",
              "      <td>6.0</td>\n",
              "      <td>-1.8</td>\n",
              "      <td>92.893</td>\n",
              "      <td>-46.2</td>\n",
              "      <td>1.244</td>\n",
              "      <td>5099.1</td>\n",
              "      <td>no</td>\n",
              "    </tr>\n",
              "    <tr>\n",
              "      <th>...</th>\n",
              "      <td>...</td>\n",
              "      <td>...</td>\n",
              "      <td>...</td>\n",
              "      <td>...</td>\n",
              "      <td>...</td>\n",
              "      <td>...</td>\n",
              "      <td>...</td>\n",
              "      <td>...</td>\n",
              "      <td>...</td>\n",
              "      <td>...</td>\n",
              "      <td>...</td>\n",
              "      <td>...</td>\n",
              "      <td>...</td>\n",
              "      <td>...</td>\n",
              "      <td>...</td>\n",
              "      <td>...</td>\n",
              "      <td>...</td>\n",
              "      <td>...</td>\n",
              "      <td>...</td>\n",
              "    </tr>\n",
              "    <tr>\n",
              "      <th>41183</th>\n",
              "      <td>11155.0</td>\n",
              "      <td>53.0</td>\n",
              "      <td>admin.</td>\n",
              "      <td>single</td>\n",
              "      <td>high.school</td>\n",
              "      <td>no</td>\n",
              "      <td>no</td>\n",
              "      <td>no</td>\n",
              "      <td>telephone</td>\n",
              "      <td>jun</td>\n",
              "      <td>thu</td>\n",
              "      <td>223.0</td>\n",
              "      <td>1.0</td>\n",
              "      <td>1.4</td>\n",
              "      <td>94.465</td>\n",
              "      <td>-41.8</td>\n",
              "      <td>4.961</td>\n",
              "      <td>5228.1</td>\n",
              "      <td>no</td>\n",
              "    </tr>\n",
              "    <tr>\n",
              "      <th>41184</th>\n",
              "      <td>18906.0</td>\n",
              "      <td>46.0</td>\n",
              "      <td>blue-collar</td>\n",
              "      <td>married</td>\n",
              "      <td>basic.9y</td>\n",
              "      <td>no</td>\n",
              "      <td>no</td>\n",
              "      <td>no</td>\n",
              "      <td>cellular</td>\n",
              "      <td>aug</td>\n",
              "      <td>mon</td>\n",
              "      <td>488.0</td>\n",
              "      <td>2.0</td>\n",
              "      <td>1.4</td>\n",
              "      <td>93.444</td>\n",
              "      <td>-36.1</td>\n",
              "      <td>4.970</td>\n",
              "      <td>5228.1</td>\n",
              "      <td>no</td>\n",
              "    </tr>\n",
              "    <tr>\n",
              "      <th>41185</th>\n",
              "      <td>21688.0</td>\n",
              "      <td>33.0</td>\n",
              "      <td>technician</td>\n",
              "      <td>single</td>\n",
              "      <td>university.degree</td>\n",
              "      <td>no</td>\n",
              "      <td>no</td>\n",
              "      <td>no</td>\n",
              "      <td>cellular</td>\n",
              "      <td>aug</td>\n",
              "      <td>tue</td>\n",
              "      <td>302.0</td>\n",
              "      <td>3.0</td>\n",
              "      <td>1.4</td>\n",
              "      <td>93.444</td>\n",
              "      <td>-36.1</td>\n",
              "      <td>4.963</td>\n",
              "      <td>5228.1</td>\n",
              "      <td>no</td>\n",
              "    </tr>\n",
              "    <tr>\n",
              "      <th>41186</th>\n",
              "      <td>13817.0</td>\n",
              "      <td>40.0</td>\n",
              "      <td>technician</td>\n",
              "      <td>married</td>\n",
              "      <td>university.degree</td>\n",
              "      <td>no</td>\n",
              "      <td>yes</td>\n",
              "      <td>no</td>\n",
              "      <td>cellular</td>\n",
              "      <td>jul</td>\n",
              "      <td>thu</td>\n",
              "      <td>296.0</td>\n",
              "      <td>3.0</td>\n",
              "      <td>1.4</td>\n",
              "      <td>93.918</td>\n",
              "      <td>-42.7</td>\n",
              "      <td>4.963</td>\n",
              "      <td>5228.1</td>\n",
              "      <td>no</td>\n",
              "    </tr>\n",
              "    <tr>\n",
              "      <th>41187</th>\n",
              "      <td>10862.0</td>\n",
              "      <td>28.0</td>\n",
              "      <td>technician</td>\n",
              "      <td>single</td>\n",
              "      <td>university.degree</td>\n",
              "      <td>unknown</td>\n",
              "      <td>no</td>\n",
              "      <td>no</td>\n",
              "      <td>telephone</td>\n",
              "      <td>jun</td>\n",
              "      <td>wed</td>\n",
              "      <td>262.0</td>\n",
              "      <td>2.0</td>\n",
              "      <td>1.4</td>\n",
              "      <td>94.465</td>\n",
              "      <td>-41.8</td>\n",
              "      <td>4.962</td>\n",
              "      <td>5228.1</td>\n",
              "      <td>no</td>\n",
              "    </tr>\n",
              "  </tbody>\n",
              "</table>\n",
              "<p>41188 rows × 19 columns</p>\n",
              "</div>\n",
              "      <button class=\"colab-df-convert\" onclick=\"convertToInteractive('df-10d4003a-3a81-4f0d-9b46-8ef3ed0821e0')\"\n",
              "              title=\"Convert this dataframe to an interactive table.\"\n",
              "              style=\"display:none;\">\n",
              "        \n",
              "  <svg xmlns=\"http://www.w3.org/2000/svg\" height=\"24px\"viewBox=\"0 0 24 24\"\n",
              "       width=\"24px\">\n",
              "    <path d=\"M0 0h24v24H0V0z\" fill=\"none\"/>\n",
              "    <path d=\"M18.56 5.44l.94 2.06.94-2.06 2.06-.94-2.06-.94-.94-2.06-.94 2.06-2.06.94zm-11 1L8.5 8.5l.94-2.06 2.06-.94-2.06-.94L8.5 2.5l-.94 2.06-2.06.94zm10 10l.94 2.06.94-2.06 2.06-.94-2.06-.94-.94-2.06-.94 2.06-2.06.94z\"/><path d=\"M17.41 7.96l-1.37-1.37c-.4-.4-.92-.59-1.43-.59-.52 0-1.04.2-1.43.59L10.3 9.45l-7.72 7.72c-.78.78-.78 2.05 0 2.83L4 21.41c.39.39.9.59 1.41.59.51 0 1.02-.2 1.41-.59l7.78-7.78 2.81-2.81c.8-.78.8-2.07 0-2.86zM5.41 20L4 18.59l7.72-7.72 1.47 1.35L5.41 20z\"/>\n",
              "  </svg>\n",
              "      </button>\n",
              "      \n",
              "  <style>\n",
              "    .colab-df-container {\n",
              "      display:flex;\n",
              "      flex-wrap:wrap;\n",
              "      gap: 12px;\n",
              "    }\n",
              "\n",
              "    .colab-df-convert {\n",
              "      background-color: #E8F0FE;\n",
              "      border: none;\n",
              "      border-radius: 50%;\n",
              "      cursor: pointer;\n",
              "      display: none;\n",
              "      fill: #1967D2;\n",
              "      height: 32px;\n",
              "      padding: 0 0 0 0;\n",
              "      width: 32px;\n",
              "    }\n",
              "\n",
              "    .colab-df-convert:hover {\n",
              "      background-color: #E2EBFA;\n",
              "      box-shadow: 0px 1px 2px rgba(60, 64, 67, 0.3), 0px 1px 3px 1px rgba(60, 64, 67, 0.15);\n",
              "      fill: #174EA6;\n",
              "    }\n",
              "\n",
              "    [theme=dark] .colab-df-convert {\n",
              "      background-color: #3B4455;\n",
              "      fill: #D2E3FC;\n",
              "    }\n",
              "\n",
              "    [theme=dark] .colab-df-convert:hover {\n",
              "      background-color: #434B5C;\n",
              "      box-shadow: 0px 1px 3px 1px rgba(0, 0, 0, 0.15);\n",
              "      filter: drop-shadow(0px 1px 2px rgba(0, 0, 0, 0.3));\n",
              "      fill: #FFFFFF;\n",
              "    }\n",
              "  </style>\n",
              "\n",
              "      <script>\n",
              "        const buttonEl =\n",
              "          document.querySelector('#df-10d4003a-3a81-4f0d-9b46-8ef3ed0821e0 button.colab-df-convert');\n",
              "        buttonEl.style.display =\n",
              "          google.colab.kernel.accessAllowed ? 'block' : 'none';\n",
              "\n",
              "        async function convertToInteractive(key) {\n",
              "          const element = document.querySelector('#df-10d4003a-3a81-4f0d-9b46-8ef3ed0821e0');\n",
              "          const dataTable =\n",
              "            await google.colab.kernel.invokeFunction('convertToInteractive',\n",
              "                                                     [key], {});\n",
              "          if (!dataTable) return;\n",
              "\n",
              "          const docLinkHtml = 'Like what you see? Visit the ' +\n",
              "            '<a target=\"_blank\" href=https://colab.research.google.com/notebooks/data_table.ipynb>data table notebook</a>'\n",
              "            + ' to learn more about interactive tables.';\n",
              "          element.innerHTML = '';\n",
              "          dataTable['output_type'] = 'display_data';\n",
              "          await google.colab.output.renderOutput(dataTable, element);\n",
              "          const docLink = document.createElement('div');\n",
              "          docLink.innerHTML = docLinkHtml;\n",
              "          element.appendChild(docLink);\n",
              "        }\n",
              "      </script>\n",
              "    </div>\n",
              "  </div>\n",
              "  "
            ],
            "text/plain": [
              "       cust_id   age          job  ... euribor3m nr.employed subscribed\n",
              "0      15139.0  27.0      student  ...     4.958      5228.1         no\n",
              "1      32927.0  49.0  blue-collar  ...     1.299      5099.1         no\n",
              "2      26145.0  29.0     services  ...     4.120      5195.8         no\n",
              "3      11224.0  31.0  blue-collar  ...     4.961      5228.1         no\n",
              "4      35458.0  36.0       admin.  ...     1.244      5099.1         no\n",
              "...        ...   ...          ...  ...       ...         ...        ...\n",
              "41183  11155.0  53.0       admin.  ...     4.961      5228.1         no\n",
              "41184  18906.0  46.0  blue-collar  ...     4.970      5228.1         no\n",
              "41185  21688.0  33.0   technician  ...     4.963      5228.1         no\n",
              "41186  13817.0  40.0   technician  ...     4.963      5228.1         no\n",
              "41187  10862.0  28.0   technician  ...     4.962      5228.1         no\n",
              "\n",
              "[41188 rows x 19 columns]"
            ]
          },
          "metadata": {},
          "execution_count": 4
        }
      ]
    },
    {
      "cell_type": "code",
      "source": [
        "newdata=maindata[\"cust_id\"].drop_duplicates()\n",
        "newdata.shape"
      ],
      "metadata": {
        "colab": {
          "base_uri": "https://localhost:8080/"
        },
        "id": "cjVnd0QcIRt6",
        "outputId": "b892678f-250f-4f65-c531-f7fc47178420"
      },
      "execution_count": null,
      "outputs": [
        {
          "output_type": "execute_result",
          "data": {
            "text/plain": [
              "(41188,)"
            ]
          },
          "metadata": {},
          "execution_count": 5
        }
      ]
    },
    {
      "cell_type": "code",
      "source": [
        "priorcampaigndata=priorcampaigndata.dropna(how='all')\n",
        "priorcampaigndata=priorcampaigndata.reset_index(drop=True)\n",
        "priorcampaigndata['pdays']=priorcampaigndata['pdays'].replace(np.nan,999)\n",
        "priorcampaigndata['previous']=priorcampaigndata['previous'].replace(np.nan,0)\n",
        "priorcampaigndata['poutcome']=priorcampaigndata['poutcome'].replace(np.nan,'inconclusive')\n",
        "priorcampaigndata"
      ],
      "metadata": {
        "id": "Mgucfz3cwKbw",
        "colab": {
          "base_uri": "https://localhost:8080/",
          "height": 424
        },
        "outputId": "10c033d9-e289-433d-dbb6-4ed785350c05"
      },
      "execution_count": null,
      "outputs": [
        {
          "output_type": "execute_result",
          "data": {
            "text/html": [
              "\n",
              "  <div id=\"df-0a1fb608-a70e-4cb0-94ed-0365230bf3a2\">\n",
              "    <div class=\"colab-df-container\">\n",
              "      <div>\n",
              "<style scoped>\n",
              "    .dataframe tbody tr th:only-of-type {\n",
              "        vertical-align: middle;\n",
              "    }\n",
              "\n",
              "    .dataframe tbody tr th {\n",
              "        vertical-align: top;\n",
              "    }\n",
              "\n",
              "    .dataframe thead th {\n",
              "        text-align: right;\n",
              "    }\n",
              "</style>\n",
              "<table border=\"1\" class=\"dataframe\">\n",
              "  <thead>\n",
              "    <tr style=\"text-align: right;\">\n",
              "      <th></th>\n",
              "      <th>cust_id</th>\n",
              "      <th>pdays</th>\n",
              "      <th>previous</th>\n",
              "      <th>poutcome</th>\n",
              "    </tr>\n",
              "  </thead>\n",
              "  <tbody>\n",
              "    <tr>\n",
              "      <th>0</th>\n",
              "      <td>25391.0</td>\n",
              "      <td>999.0</td>\n",
              "      <td>0.0</td>\n",
              "      <td>inconclusive</td>\n",
              "    </tr>\n",
              "    <tr>\n",
              "      <th>1</th>\n",
              "      <td>3686.0</td>\n",
              "      <td>999.0</td>\n",
              "      <td>0.0</td>\n",
              "      <td>inconclusive</td>\n",
              "    </tr>\n",
              "    <tr>\n",
              "      <th>2</th>\n",
              "      <td>31762.0</td>\n",
              "      <td>999.0</td>\n",
              "      <td>0.0</td>\n",
              "      <td>inconclusive</td>\n",
              "    </tr>\n",
              "    <tr>\n",
              "      <th>3</th>\n",
              "      <td>19809.0</td>\n",
              "      <td>999.0</td>\n",
              "      <td>0.0</td>\n",
              "      <td>inconclusive</td>\n",
              "    </tr>\n",
              "    <tr>\n",
              "      <th>4</th>\n",
              "      <td>25365.0</td>\n",
              "      <td>999.0</td>\n",
              "      <td>0.0</td>\n",
              "      <td>inconclusive</td>\n",
              "    </tr>\n",
              "    <tr>\n",
              "      <th>...</th>\n",
              "      <td>...</td>\n",
              "      <td>...</td>\n",
              "      <td>...</td>\n",
              "      <td>...</td>\n",
              "    </tr>\n",
              "    <tr>\n",
              "      <th>41173</th>\n",
              "      <td>4130.0</td>\n",
              "      <td>999.0</td>\n",
              "      <td>0.0</td>\n",
              "      <td>inconclusive</td>\n",
              "    </tr>\n",
              "    <tr>\n",
              "      <th>41174</th>\n",
              "      <td>32027.0</td>\n",
              "      <td>999.0</td>\n",
              "      <td>0.0</td>\n",
              "      <td>inconclusive</td>\n",
              "    </tr>\n",
              "    <tr>\n",
              "      <th>41175</th>\n",
              "      <td>19016.0</td>\n",
              "      <td>999.0</td>\n",
              "      <td>0.0</td>\n",
              "      <td>inconclusive</td>\n",
              "    </tr>\n",
              "    <tr>\n",
              "      <th>41176</th>\n",
              "      <td>28920.0</td>\n",
              "      <td>999.0</td>\n",
              "      <td>0.0</td>\n",
              "      <td>inconclusive</td>\n",
              "    </tr>\n",
              "    <tr>\n",
              "      <th>41177</th>\n",
              "      <td>12610.0</td>\n",
              "      <td>999.0</td>\n",
              "      <td>0.0</td>\n",
              "      <td>inconclusive</td>\n",
              "    </tr>\n",
              "  </tbody>\n",
              "</table>\n",
              "<p>41178 rows × 4 columns</p>\n",
              "</div>\n",
              "      <button class=\"colab-df-convert\" onclick=\"convertToInteractive('df-0a1fb608-a70e-4cb0-94ed-0365230bf3a2')\"\n",
              "              title=\"Convert this dataframe to an interactive table.\"\n",
              "              style=\"display:none;\">\n",
              "        \n",
              "  <svg xmlns=\"http://www.w3.org/2000/svg\" height=\"24px\"viewBox=\"0 0 24 24\"\n",
              "       width=\"24px\">\n",
              "    <path d=\"M0 0h24v24H0V0z\" fill=\"none\"/>\n",
              "    <path d=\"M18.56 5.44l.94 2.06.94-2.06 2.06-.94-2.06-.94-.94-2.06-.94 2.06-2.06.94zm-11 1L8.5 8.5l.94-2.06 2.06-.94-2.06-.94L8.5 2.5l-.94 2.06-2.06.94zm10 10l.94 2.06.94-2.06 2.06-.94-2.06-.94-.94-2.06-.94 2.06-2.06.94z\"/><path d=\"M17.41 7.96l-1.37-1.37c-.4-.4-.92-.59-1.43-.59-.52 0-1.04.2-1.43.59L10.3 9.45l-7.72 7.72c-.78.78-.78 2.05 0 2.83L4 21.41c.39.39.9.59 1.41.59.51 0 1.02-.2 1.41-.59l7.78-7.78 2.81-2.81c.8-.78.8-2.07 0-2.86zM5.41 20L4 18.59l7.72-7.72 1.47 1.35L5.41 20z\"/>\n",
              "  </svg>\n",
              "      </button>\n",
              "      \n",
              "  <style>\n",
              "    .colab-df-container {\n",
              "      display:flex;\n",
              "      flex-wrap:wrap;\n",
              "      gap: 12px;\n",
              "    }\n",
              "\n",
              "    .colab-df-convert {\n",
              "      background-color: #E8F0FE;\n",
              "      border: none;\n",
              "      border-radius: 50%;\n",
              "      cursor: pointer;\n",
              "      display: none;\n",
              "      fill: #1967D2;\n",
              "      height: 32px;\n",
              "      padding: 0 0 0 0;\n",
              "      width: 32px;\n",
              "    }\n",
              "\n",
              "    .colab-df-convert:hover {\n",
              "      background-color: #E2EBFA;\n",
              "      box-shadow: 0px 1px 2px rgba(60, 64, 67, 0.3), 0px 1px 3px 1px rgba(60, 64, 67, 0.15);\n",
              "      fill: #174EA6;\n",
              "    }\n",
              "\n",
              "    [theme=dark] .colab-df-convert {\n",
              "      background-color: #3B4455;\n",
              "      fill: #D2E3FC;\n",
              "    }\n",
              "\n",
              "    [theme=dark] .colab-df-convert:hover {\n",
              "      background-color: #434B5C;\n",
              "      box-shadow: 0px 1px 3px 1px rgba(0, 0, 0, 0.15);\n",
              "      filter: drop-shadow(0px 1px 2px rgba(0, 0, 0, 0.3));\n",
              "      fill: #FFFFFF;\n",
              "    }\n",
              "  </style>\n",
              "\n",
              "      <script>\n",
              "        const buttonEl =\n",
              "          document.querySelector('#df-0a1fb608-a70e-4cb0-94ed-0365230bf3a2 button.colab-df-convert');\n",
              "        buttonEl.style.display =\n",
              "          google.colab.kernel.accessAllowed ? 'block' : 'none';\n",
              "\n",
              "        async function convertToInteractive(key) {\n",
              "          const element = document.querySelector('#df-0a1fb608-a70e-4cb0-94ed-0365230bf3a2');\n",
              "          const dataTable =\n",
              "            await google.colab.kernel.invokeFunction('convertToInteractive',\n",
              "                                                     [key], {});\n",
              "          if (!dataTable) return;\n",
              "\n",
              "          const docLinkHtml = 'Like what you see? Visit the ' +\n",
              "            '<a target=\"_blank\" href=https://colab.research.google.com/notebooks/data_table.ipynb>data table notebook</a>'\n",
              "            + ' to learn more about interactive tables.';\n",
              "          element.innerHTML = '';\n",
              "          dataTable['output_type'] = 'display_data';\n",
              "          await google.colab.output.renderOutput(dataTable, element);\n",
              "          const docLink = document.createElement('div');\n",
              "          docLink.innerHTML = docLinkHtml;\n",
              "          element.appendChild(docLink);\n",
              "        }\n",
              "      </script>\n",
              "    </div>\n",
              "  </div>\n",
              "  "
            ],
            "text/plain": [
              "       cust_id  pdays  previous      poutcome\n",
              "0      25391.0  999.0       0.0  inconclusive\n",
              "1       3686.0  999.0       0.0  inconclusive\n",
              "2      31762.0  999.0       0.0  inconclusive\n",
              "3      19809.0  999.0       0.0  inconclusive\n",
              "4      25365.0  999.0       0.0  inconclusive\n",
              "...        ...    ...       ...           ...\n",
              "41173   4130.0  999.0       0.0  inconclusive\n",
              "41174  32027.0  999.0       0.0  inconclusive\n",
              "41175  19016.0  999.0       0.0  inconclusive\n",
              "41176  28920.0  999.0       0.0  inconclusive\n",
              "41177  12610.0  999.0       0.0  inconclusive\n",
              "\n",
              "[41178 rows x 4 columns]"
            ]
          },
          "metadata": {},
          "execution_count": 5
        }
      ]
    },
    {
      "cell_type": "code",
      "source": [
        "priorcampaigndata1=priorcampaigndata.dropna(how='any')\n",
        "priorcampaigndata=priorcampaigndata.reset_index(drop=True)\n",
        "priorcampaigndata1"
      ],
      "metadata": {
        "id": "9N5o71itJBYX",
        "colab": {
          "base_uri": "https://localhost:8080/",
          "height": 424
        },
        "outputId": "f631f136-0595-4af8-ea9e-52a20442770d"
      },
      "execution_count": null,
      "outputs": [
        {
          "output_type": "execute_result",
          "data": {
            "text/html": [
              "\n",
              "  <div id=\"df-4db71eb3-7e5a-4c65-be6a-5742636dee24\">\n",
              "    <div class=\"colab-df-container\">\n",
              "      <div>\n",
              "<style scoped>\n",
              "    .dataframe tbody tr th:only-of-type {\n",
              "        vertical-align: middle;\n",
              "    }\n",
              "\n",
              "    .dataframe tbody tr th {\n",
              "        vertical-align: top;\n",
              "    }\n",
              "\n",
              "    .dataframe thead th {\n",
              "        text-align: right;\n",
              "    }\n",
              "</style>\n",
              "<table border=\"1\" class=\"dataframe\">\n",
              "  <thead>\n",
              "    <tr style=\"text-align: right;\">\n",
              "      <th></th>\n",
              "      <th>cust_id</th>\n",
              "      <th>pdays</th>\n",
              "      <th>previous</th>\n",
              "      <th>poutcome</th>\n",
              "    </tr>\n",
              "  </thead>\n",
              "  <tbody>\n",
              "    <tr>\n",
              "      <th>0</th>\n",
              "      <td>25391.0</td>\n",
              "      <td>999.0</td>\n",
              "      <td>0.0</td>\n",
              "      <td>inconclusive</td>\n",
              "    </tr>\n",
              "    <tr>\n",
              "      <th>1</th>\n",
              "      <td>3686.0</td>\n",
              "      <td>999.0</td>\n",
              "      <td>0.0</td>\n",
              "      <td>inconclusive</td>\n",
              "    </tr>\n",
              "    <tr>\n",
              "      <th>2</th>\n",
              "      <td>31762.0</td>\n",
              "      <td>999.0</td>\n",
              "      <td>0.0</td>\n",
              "      <td>inconclusive</td>\n",
              "    </tr>\n",
              "    <tr>\n",
              "      <th>3</th>\n",
              "      <td>19809.0</td>\n",
              "      <td>999.0</td>\n",
              "      <td>0.0</td>\n",
              "      <td>inconclusive</td>\n",
              "    </tr>\n",
              "    <tr>\n",
              "      <th>4</th>\n",
              "      <td>25365.0</td>\n",
              "      <td>999.0</td>\n",
              "      <td>0.0</td>\n",
              "      <td>inconclusive</td>\n",
              "    </tr>\n",
              "    <tr>\n",
              "      <th>...</th>\n",
              "      <td>...</td>\n",
              "      <td>...</td>\n",
              "      <td>...</td>\n",
              "      <td>...</td>\n",
              "    </tr>\n",
              "    <tr>\n",
              "      <th>41173</th>\n",
              "      <td>4130.0</td>\n",
              "      <td>999.0</td>\n",
              "      <td>0.0</td>\n",
              "      <td>inconclusive</td>\n",
              "    </tr>\n",
              "    <tr>\n",
              "      <th>41174</th>\n",
              "      <td>32027.0</td>\n",
              "      <td>999.0</td>\n",
              "      <td>0.0</td>\n",
              "      <td>inconclusive</td>\n",
              "    </tr>\n",
              "    <tr>\n",
              "      <th>41175</th>\n",
              "      <td>19016.0</td>\n",
              "      <td>999.0</td>\n",
              "      <td>0.0</td>\n",
              "      <td>inconclusive</td>\n",
              "    </tr>\n",
              "    <tr>\n",
              "      <th>41176</th>\n",
              "      <td>28920.0</td>\n",
              "      <td>999.0</td>\n",
              "      <td>0.0</td>\n",
              "      <td>inconclusive</td>\n",
              "    </tr>\n",
              "    <tr>\n",
              "      <th>41177</th>\n",
              "      <td>12610.0</td>\n",
              "      <td>999.0</td>\n",
              "      <td>0.0</td>\n",
              "      <td>inconclusive</td>\n",
              "    </tr>\n",
              "  </tbody>\n",
              "</table>\n",
              "<p>41178 rows × 4 columns</p>\n",
              "</div>\n",
              "      <button class=\"colab-df-convert\" onclick=\"convertToInteractive('df-4db71eb3-7e5a-4c65-be6a-5742636dee24')\"\n",
              "              title=\"Convert this dataframe to an interactive table.\"\n",
              "              style=\"display:none;\">\n",
              "        \n",
              "  <svg xmlns=\"http://www.w3.org/2000/svg\" height=\"24px\"viewBox=\"0 0 24 24\"\n",
              "       width=\"24px\">\n",
              "    <path d=\"M0 0h24v24H0V0z\" fill=\"none\"/>\n",
              "    <path d=\"M18.56 5.44l.94 2.06.94-2.06 2.06-.94-2.06-.94-.94-2.06-.94 2.06-2.06.94zm-11 1L8.5 8.5l.94-2.06 2.06-.94-2.06-.94L8.5 2.5l-.94 2.06-2.06.94zm10 10l.94 2.06.94-2.06 2.06-.94-2.06-.94-.94-2.06-.94 2.06-2.06.94z\"/><path d=\"M17.41 7.96l-1.37-1.37c-.4-.4-.92-.59-1.43-.59-.52 0-1.04.2-1.43.59L10.3 9.45l-7.72 7.72c-.78.78-.78 2.05 0 2.83L4 21.41c.39.39.9.59 1.41.59.51 0 1.02-.2 1.41-.59l7.78-7.78 2.81-2.81c.8-.78.8-2.07 0-2.86zM5.41 20L4 18.59l7.72-7.72 1.47 1.35L5.41 20z\"/>\n",
              "  </svg>\n",
              "      </button>\n",
              "      \n",
              "  <style>\n",
              "    .colab-df-container {\n",
              "      display:flex;\n",
              "      flex-wrap:wrap;\n",
              "      gap: 12px;\n",
              "    }\n",
              "\n",
              "    .colab-df-convert {\n",
              "      background-color: #E8F0FE;\n",
              "      border: none;\n",
              "      border-radius: 50%;\n",
              "      cursor: pointer;\n",
              "      display: none;\n",
              "      fill: #1967D2;\n",
              "      height: 32px;\n",
              "      padding: 0 0 0 0;\n",
              "      width: 32px;\n",
              "    }\n",
              "\n",
              "    .colab-df-convert:hover {\n",
              "      background-color: #E2EBFA;\n",
              "      box-shadow: 0px 1px 2px rgba(60, 64, 67, 0.3), 0px 1px 3px 1px rgba(60, 64, 67, 0.15);\n",
              "      fill: #174EA6;\n",
              "    }\n",
              "\n",
              "    [theme=dark] .colab-df-convert {\n",
              "      background-color: #3B4455;\n",
              "      fill: #D2E3FC;\n",
              "    }\n",
              "\n",
              "    [theme=dark] .colab-df-convert:hover {\n",
              "      background-color: #434B5C;\n",
              "      box-shadow: 0px 1px 3px 1px rgba(0, 0, 0, 0.15);\n",
              "      filter: drop-shadow(0px 1px 2px rgba(0, 0, 0, 0.3));\n",
              "      fill: #FFFFFF;\n",
              "    }\n",
              "  </style>\n",
              "\n",
              "      <script>\n",
              "        const buttonEl =\n",
              "          document.querySelector('#df-4db71eb3-7e5a-4c65-be6a-5742636dee24 button.colab-df-convert');\n",
              "        buttonEl.style.display =\n",
              "          google.colab.kernel.accessAllowed ? 'block' : 'none';\n",
              "\n",
              "        async function convertToInteractive(key) {\n",
              "          const element = document.querySelector('#df-4db71eb3-7e5a-4c65-be6a-5742636dee24');\n",
              "          const dataTable =\n",
              "            await google.colab.kernel.invokeFunction('convertToInteractive',\n",
              "                                                     [key], {});\n",
              "          if (!dataTable) return;\n",
              "\n",
              "          const docLinkHtml = 'Like what you see? Visit the ' +\n",
              "            '<a target=\"_blank\" href=https://colab.research.google.com/notebooks/data_table.ipynb>data table notebook</a>'\n",
              "            + ' to learn more about interactive tables.';\n",
              "          element.innerHTML = '';\n",
              "          dataTable['output_type'] = 'display_data';\n",
              "          await google.colab.output.renderOutput(dataTable, element);\n",
              "          const docLink = document.createElement('div');\n",
              "          docLink.innerHTML = docLinkHtml;\n",
              "          element.appendChild(docLink);\n",
              "        }\n",
              "      </script>\n",
              "    </div>\n",
              "  </div>\n",
              "  "
            ],
            "text/plain": [
              "       cust_id  pdays  previous      poutcome\n",
              "0      25391.0  999.0       0.0  inconclusive\n",
              "1       3686.0  999.0       0.0  inconclusive\n",
              "2      31762.0  999.0       0.0  inconclusive\n",
              "3      19809.0  999.0       0.0  inconclusive\n",
              "4      25365.0  999.0       0.0  inconclusive\n",
              "...        ...    ...       ...           ...\n",
              "41173   4130.0  999.0       0.0  inconclusive\n",
              "41174  32027.0  999.0       0.0  inconclusive\n",
              "41175  19016.0  999.0       0.0  inconclusive\n",
              "41176  28920.0  999.0       0.0  inconclusive\n",
              "41177  12610.0  999.0       0.0  inconclusive\n",
              "\n",
              "[41178 rows x 4 columns]"
            ]
          },
          "metadata": {},
          "execution_count": 6
        }
      ]
    },
    {
      "cell_type": "code",
      "source": [
        "totaldata=maindata.merge(priorcampaigndata[[\"cust_id\",\"pdays\",\"previous\",\"poutcome\"]])\n",
        "totaldata"
      ],
      "metadata": {
        "id": "ftYFuaS7wC8Q",
        "colab": {
          "base_uri": "https://localhost:8080/",
          "height": 540
        },
        "outputId": "6eb4d18e-b344-42b7-84b6-85c881c30308"
      },
      "execution_count": null,
      "outputs": [
        {
          "output_type": "execute_result",
          "data": {
            "text/html": [
              "\n",
              "  <div id=\"df-b06f13b8-3aee-4e2d-9fef-2616c74ba552\">\n",
              "    <div class=\"colab-df-container\">\n",
              "      <div>\n",
              "<style scoped>\n",
              "    .dataframe tbody tr th:only-of-type {\n",
              "        vertical-align: middle;\n",
              "    }\n",
              "\n",
              "    .dataframe tbody tr th {\n",
              "        vertical-align: top;\n",
              "    }\n",
              "\n",
              "    .dataframe thead th {\n",
              "        text-align: right;\n",
              "    }\n",
              "</style>\n",
              "<table border=\"1\" class=\"dataframe\">\n",
              "  <thead>\n",
              "    <tr style=\"text-align: right;\">\n",
              "      <th></th>\n",
              "      <th>cust_id</th>\n",
              "      <th>age</th>\n",
              "      <th>job</th>\n",
              "      <th>marital</th>\n",
              "      <th>education</th>\n",
              "      <th>default</th>\n",
              "      <th>housing</th>\n",
              "      <th>loan</th>\n",
              "      <th>contact</th>\n",
              "      <th>month</th>\n",
              "      <th>day_of_week</th>\n",
              "      <th>duration</th>\n",
              "      <th>campaign</th>\n",
              "      <th>emp.var.rate</th>\n",
              "      <th>cons.price.idx</th>\n",
              "      <th>cons.conf.idx</th>\n",
              "      <th>euribor3m</th>\n",
              "      <th>nr.employed</th>\n",
              "      <th>subscribed</th>\n",
              "      <th>pdays</th>\n",
              "      <th>previous</th>\n",
              "      <th>poutcome</th>\n",
              "    </tr>\n",
              "  </thead>\n",
              "  <tbody>\n",
              "    <tr>\n",
              "      <th>0</th>\n",
              "      <td>15139.0</td>\n",
              "      <td>27.0</td>\n",
              "      <td>student</td>\n",
              "      <td>single</td>\n",
              "      <td>university.degree</td>\n",
              "      <td>no</td>\n",
              "      <td>unknown</td>\n",
              "      <td>unknown</td>\n",
              "      <td>cellular</td>\n",
              "      <td>jul</td>\n",
              "      <td>thu</td>\n",
              "      <td>312.0</td>\n",
              "      <td>1.0</td>\n",
              "      <td>1.4</td>\n",
              "      <td>93.918</td>\n",
              "      <td>-42.7</td>\n",
              "      <td>4.958</td>\n",
              "      <td>5228.1</td>\n",
              "      <td>no</td>\n",
              "      <td>999.0</td>\n",
              "      <td>0.0</td>\n",
              "      <td>inconclusive</td>\n",
              "    </tr>\n",
              "    <tr>\n",
              "      <th>1</th>\n",
              "      <td>32927.0</td>\n",
              "      <td>49.0</td>\n",
              "      <td>blue-collar</td>\n",
              "      <td>married</td>\n",
              "      <td>basic.9y</td>\n",
              "      <td>unknown</td>\n",
              "      <td>no</td>\n",
              "      <td>yes</td>\n",
              "      <td>cellular</td>\n",
              "      <td>may</td>\n",
              "      <td>mon</td>\n",
              "      <td>290.0</td>\n",
              "      <td>1.0</td>\n",
              "      <td>-1.8</td>\n",
              "      <td>92.893</td>\n",
              "      <td>-46.2</td>\n",
              "      <td>1.299</td>\n",
              "      <td>5099.1</td>\n",
              "      <td>no</td>\n",
              "      <td>999.0</td>\n",
              "      <td>0.0</td>\n",
              "      <td>inconclusive</td>\n",
              "    </tr>\n",
              "    <tr>\n",
              "      <th>2</th>\n",
              "      <td>26145.0</td>\n",
              "      <td>29.0</td>\n",
              "      <td>services</td>\n",
              "      <td>married</td>\n",
              "      <td>basic.6y</td>\n",
              "      <td>no</td>\n",
              "      <td>no</td>\n",
              "      <td>no</td>\n",
              "      <td>cellular</td>\n",
              "      <td>nov</td>\n",
              "      <td>wed</td>\n",
              "      <td>314.0</td>\n",
              "      <td>2.0</td>\n",
              "      <td>-0.1</td>\n",
              "      <td>93.200</td>\n",
              "      <td>-42.0</td>\n",
              "      <td>4.120</td>\n",
              "      <td>5195.8</td>\n",
              "      <td>no</td>\n",
              "      <td>999.0</td>\n",
              "      <td>0.0</td>\n",
              "      <td>inconclusive</td>\n",
              "    </tr>\n",
              "    <tr>\n",
              "      <th>3</th>\n",
              "      <td>11224.0</td>\n",
              "      <td>31.0</td>\n",
              "      <td>blue-collar</td>\n",
              "      <td>married</td>\n",
              "      <td>basic.9y</td>\n",
              "      <td>no</td>\n",
              "      <td>no</td>\n",
              "      <td>no</td>\n",
              "      <td>telephone</td>\n",
              "      <td>jun</td>\n",
              "      <td>thu</td>\n",
              "      <td>217.0</td>\n",
              "      <td>2.0</td>\n",
              "      <td>1.4</td>\n",
              "      <td>94.465</td>\n",
              "      <td>-41.8</td>\n",
              "      <td>4.961</td>\n",
              "      <td>5228.1</td>\n",
              "      <td>no</td>\n",
              "      <td>999.0</td>\n",
              "      <td>0.0</td>\n",
              "      <td>inconclusive</td>\n",
              "    </tr>\n",
              "    <tr>\n",
              "      <th>4</th>\n",
              "      <td>35458.0</td>\n",
              "      <td>36.0</td>\n",
              "      <td>admin.</td>\n",
              "      <td>single</td>\n",
              "      <td>unknown</td>\n",
              "      <td>no</td>\n",
              "      <td>yes</td>\n",
              "      <td>no</td>\n",
              "      <td>cellular</td>\n",
              "      <td>may</td>\n",
              "      <td>mon</td>\n",
              "      <td>222.0</td>\n",
              "      <td>6.0</td>\n",
              "      <td>-1.8</td>\n",
              "      <td>92.893</td>\n",
              "      <td>-46.2</td>\n",
              "      <td>1.244</td>\n",
              "      <td>5099.1</td>\n",
              "      <td>no</td>\n",
              "      <td>999.0</td>\n",
              "      <td>0.0</td>\n",
              "      <td>inconclusive</td>\n",
              "    </tr>\n",
              "    <tr>\n",
              "      <th>...</th>\n",
              "      <td>...</td>\n",
              "      <td>...</td>\n",
              "      <td>...</td>\n",
              "      <td>...</td>\n",
              "      <td>...</td>\n",
              "      <td>...</td>\n",
              "      <td>...</td>\n",
              "      <td>...</td>\n",
              "      <td>...</td>\n",
              "      <td>...</td>\n",
              "      <td>...</td>\n",
              "      <td>...</td>\n",
              "      <td>...</td>\n",
              "      <td>...</td>\n",
              "      <td>...</td>\n",
              "      <td>...</td>\n",
              "      <td>...</td>\n",
              "      <td>...</td>\n",
              "      <td>...</td>\n",
              "      <td>...</td>\n",
              "      <td>...</td>\n",
              "      <td>...</td>\n",
              "    </tr>\n",
              "    <tr>\n",
              "      <th>41173</th>\n",
              "      <td>11155.0</td>\n",
              "      <td>53.0</td>\n",
              "      <td>admin.</td>\n",
              "      <td>single</td>\n",
              "      <td>high.school</td>\n",
              "      <td>no</td>\n",
              "      <td>no</td>\n",
              "      <td>no</td>\n",
              "      <td>telephone</td>\n",
              "      <td>jun</td>\n",
              "      <td>thu</td>\n",
              "      <td>223.0</td>\n",
              "      <td>1.0</td>\n",
              "      <td>1.4</td>\n",
              "      <td>94.465</td>\n",
              "      <td>-41.8</td>\n",
              "      <td>4.961</td>\n",
              "      <td>5228.1</td>\n",
              "      <td>no</td>\n",
              "      <td>999.0</td>\n",
              "      <td>0.0</td>\n",
              "      <td>inconclusive</td>\n",
              "    </tr>\n",
              "    <tr>\n",
              "      <th>41174</th>\n",
              "      <td>18906.0</td>\n",
              "      <td>46.0</td>\n",
              "      <td>blue-collar</td>\n",
              "      <td>married</td>\n",
              "      <td>basic.9y</td>\n",
              "      <td>no</td>\n",
              "      <td>no</td>\n",
              "      <td>no</td>\n",
              "      <td>cellular</td>\n",
              "      <td>aug</td>\n",
              "      <td>mon</td>\n",
              "      <td>488.0</td>\n",
              "      <td>2.0</td>\n",
              "      <td>1.4</td>\n",
              "      <td>93.444</td>\n",
              "      <td>-36.1</td>\n",
              "      <td>4.970</td>\n",
              "      <td>5228.1</td>\n",
              "      <td>no</td>\n",
              "      <td>999.0</td>\n",
              "      <td>0.0</td>\n",
              "      <td>inconclusive</td>\n",
              "    </tr>\n",
              "    <tr>\n",
              "      <th>41175</th>\n",
              "      <td>21688.0</td>\n",
              "      <td>33.0</td>\n",
              "      <td>technician</td>\n",
              "      <td>single</td>\n",
              "      <td>university.degree</td>\n",
              "      <td>no</td>\n",
              "      <td>no</td>\n",
              "      <td>no</td>\n",
              "      <td>cellular</td>\n",
              "      <td>aug</td>\n",
              "      <td>tue</td>\n",
              "      <td>302.0</td>\n",
              "      <td>3.0</td>\n",
              "      <td>1.4</td>\n",
              "      <td>93.444</td>\n",
              "      <td>-36.1</td>\n",
              "      <td>4.963</td>\n",
              "      <td>5228.1</td>\n",
              "      <td>no</td>\n",
              "      <td>999.0</td>\n",
              "      <td>0.0</td>\n",
              "      <td>inconclusive</td>\n",
              "    </tr>\n",
              "    <tr>\n",
              "      <th>41176</th>\n",
              "      <td>13817.0</td>\n",
              "      <td>40.0</td>\n",
              "      <td>technician</td>\n",
              "      <td>married</td>\n",
              "      <td>university.degree</td>\n",
              "      <td>no</td>\n",
              "      <td>yes</td>\n",
              "      <td>no</td>\n",
              "      <td>cellular</td>\n",
              "      <td>jul</td>\n",
              "      <td>thu</td>\n",
              "      <td>296.0</td>\n",
              "      <td>3.0</td>\n",
              "      <td>1.4</td>\n",
              "      <td>93.918</td>\n",
              "      <td>-42.7</td>\n",
              "      <td>4.963</td>\n",
              "      <td>5228.1</td>\n",
              "      <td>no</td>\n",
              "      <td>999.0</td>\n",
              "      <td>0.0</td>\n",
              "      <td>inconclusive</td>\n",
              "    </tr>\n",
              "    <tr>\n",
              "      <th>41177</th>\n",
              "      <td>10862.0</td>\n",
              "      <td>28.0</td>\n",
              "      <td>technician</td>\n",
              "      <td>single</td>\n",
              "      <td>university.degree</td>\n",
              "      <td>unknown</td>\n",
              "      <td>no</td>\n",
              "      <td>no</td>\n",
              "      <td>telephone</td>\n",
              "      <td>jun</td>\n",
              "      <td>wed</td>\n",
              "      <td>262.0</td>\n",
              "      <td>2.0</td>\n",
              "      <td>1.4</td>\n",
              "      <td>94.465</td>\n",
              "      <td>-41.8</td>\n",
              "      <td>4.962</td>\n",
              "      <td>5228.1</td>\n",
              "      <td>no</td>\n",
              "      <td>999.0</td>\n",
              "      <td>0.0</td>\n",
              "      <td>inconclusive</td>\n",
              "    </tr>\n",
              "  </tbody>\n",
              "</table>\n",
              "<p>41178 rows × 22 columns</p>\n",
              "</div>\n",
              "      <button class=\"colab-df-convert\" onclick=\"convertToInteractive('df-b06f13b8-3aee-4e2d-9fef-2616c74ba552')\"\n",
              "              title=\"Convert this dataframe to an interactive table.\"\n",
              "              style=\"display:none;\">\n",
              "        \n",
              "  <svg xmlns=\"http://www.w3.org/2000/svg\" height=\"24px\"viewBox=\"0 0 24 24\"\n",
              "       width=\"24px\">\n",
              "    <path d=\"M0 0h24v24H0V0z\" fill=\"none\"/>\n",
              "    <path d=\"M18.56 5.44l.94 2.06.94-2.06 2.06-.94-2.06-.94-.94-2.06-.94 2.06-2.06.94zm-11 1L8.5 8.5l.94-2.06 2.06-.94-2.06-.94L8.5 2.5l-.94 2.06-2.06.94zm10 10l.94 2.06.94-2.06 2.06-.94-2.06-.94-.94-2.06-.94 2.06-2.06.94z\"/><path d=\"M17.41 7.96l-1.37-1.37c-.4-.4-.92-.59-1.43-.59-.52 0-1.04.2-1.43.59L10.3 9.45l-7.72 7.72c-.78.78-.78 2.05 0 2.83L4 21.41c.39.39.9.59 1.41.59.51 0 1.02-.2 1.41-.59l7.78-7.78 2.81-2.81c.8-.78.8-2.07 0-2.86zM5.41 20L4 18.59l7.72-7.72 1.47 1.35L5.41 20z\"/>\n",
              "  </svg>\n",
              "      </button>\n",
              "      \n",
              "  <style>\n",
              "    .colab-df-container {\n",
              "      display:flex;\n",
              "      flex-wrap:wrap;\n",
              "      gap: 12px;\n",
              "    }\n",
              "\n",
              "    .colab-df-convert {\n",
              "      background-color: #E8F0FE;\n",
              "      border: none;\n",
              "      border-radius: 50%;\n",
              "      cursor: pointer;\n",
              "      display: none;\n",
              "      fill: #1967D2;\n",
              "      height: 32px;\n",
              "      padding: 0 0 0 0;\n",
              "      width: 32px;\n",
              "    }\n",
              "\n",
              "    .colab-df-convert:hover {\n",
              "      background-color: #E2EBFA;\n",
              "      box-shadow: 0px 1px 2px rgba(60, 64, 67, 0.3), 0px 1px 3px 1px rgba(60, 64, 67, 0.15);\n",
              "      fill: #174EA6;\n",
              "    }\n",
              "\n",
              "    [theme=dark] .colab-df-convert {\n",
              "      background-color: #3B4455;\n",
              "      fill: #D2E3FC;\n",
              "    }\n",
              "\n",
              "    [theme=dark] .colab-df-convert:hover {\n",
              "      background-color: #434B5C;\n",
              "      box-shadow: 0px 1px 3px 1px rgba(0, 0, 0, 0.15);\n",
              "      filter: drop-shadow(0px 1px 2px rgba(0, 0, 0, 0.3));\n",
              "      fill: #FFFFFF;\n",
              "    }\n",
              "  </style>\n",
              "\n",
              "      <script>\n",
              "        const buttonEl =\n",
              "          document.querySelector('#df-b06f13b8-3aee-4e2d-9fef-2616c74ba552 button.colab-df-convert');\n",
              "        buttonEl.style.display =\n",
              "          google.colab.kernel.accessAllowed ? 'block' : 'none';\n",
              "\n",
              "        async function convertToInteractive(key) {\n",
              "          const element = document.querySelector('#df-b06f13b8-3aee-4e2d-9fef-2616c74ba552');\n",
              "          const dataTable =\n",
              "            await google.colab.kernel.invokeFunction('convertToInteractive',\n",
              "                                                     [key], {});\n",
              "          if (!dataTable) return;\n",
              "\n",
              "          const docLinkHtml = 'Like what you see? Visit the ' +\n",
              "            '<a target=\"_blank\" href=https://colab.research.google.com/notebooks/data_table.ipynb>data table notebook</a>'\n",
              "            + ' to learn more about interactive tables.';\n",
              "          element.innerHTML = '';\n",
              "          dataTable['output_type'] = 'display_data';\n",
              "          await google.colab.output.renderOutput(dataTable, element);\n",
              "          const docLink = document.createElement('div');\n",
              "          docLink.innerHTML = docLinkHtml;\n",
              "          element.appendChild(docLink);\n",
              "        }\n",
              "      </script>\n",
              "    </div>\n",
              "  </div>\n",
              "  "
            ],
            "text/plain": [
              "       cust_id   age          job  ...  pdays previous      poutcome\n",
              "0      15139.0  27.0      student  ...  999.0      0.0  inconclusive\n",
              "1      32927.0  49.0  blue-collar  ...  999.0      0.0  inconclusive\n",
              "2      26145.0  29.0     services  ...  999.0      0.0  inconclusive\n",
              "3      11224.0  31.0  blue-collar  ...  999.0      0.0  inconclusive\n",
              "4      35458.0  36.0       admin.  ...  999.0      0.0  inconclusive\n",
              "...        ...   ...          ...  ...    ...      ...           ...\n",
              "41173  11155.0  53.0       admin.  ...  999.0      0.0  inconclusive\n",
              "41174  18906.0  46.0  blue-collar  ...  999.0      0.0  inconclusive\n",
              "41175  21688.0  33.0   technician  ...  999.0      0.0  inconclusive\n",
              "41176  13817.0  40.0   technician  ...  999.0      0.0  inconclusive\n",
              "41177  10862.0  28.0   technician  ...  999.0      0.0  inconclusive\n",
              "\n",
              "[41178 rows x 22 columns]"
            ]
          },
          "metadata": {},
          "execution_count": 7
        }
      ]
    },
    {
      "cell_type": "markdown",
      "source": [
        "For our total data there are 22 feature categories.\n",
        "41,178 phone calls were used to collect data on categories.\n",
        "our dependent feature is 'subscribed'. We can see that some of the categories e.g. 'default' contain values 'unknown'. much of the phone calls from the prior campaigns resulted in no data and return NaN. Knowing that some people may have been contacted twice we must check this and remove any duplicates."
      ],
      "metadata": {
        "id": "GYgi9CNPYVZu"
      }
    },
    {
      "cell_type": "code",
      "source": [
        "totaldata=totaldata.drop_duplicates()\n",
        "totaldata.shape"
      ],
      "metadata": {
        "id": "qbDVHsnzhsiZ",
        "colab": {
          "base_uri": "https://localhost:8080/"
        },
        "outputId": "0518e36b-dba4-45de-f19b-c86d6d66a753"
      },
      "execution_count": null,
      "outputs": [
        {
          "output_type": "execute_result",
          "data": {
            "text/plain": [
              "(41178, 22)"
            ]
          },
          "metadata": {},
          "execution_count": 8
        }
      ]
    },
    {
      "cell_type": "markdown",
      "source": [
        "It appears as though there were no duplicate entries, even though some customers may have been contacted twice the information provided was not the same. Lets check the spread of our dependent variable 'subscribed'."
      ],
      "metadata": {
        "id": "c9TSh_zM2HaA"
      }
    },
    {
      "cell_type": "code",
      "source": [
        "print(totaldata[\"subscribed\"].value_counts())\n",
        "print(totaldata[\"subscribed\"].value_counts()/len(totaldata.subscribed))"
      ],
      "metadata": {
        "id": "uQQ05l5r1qxL",
        "colab": {
          "base_uri": "https://localhost:8080/"
        },
        "outputId": "84dda383-78b2-418a-9be8-114389f558a7"
      },
      "execution_count": null,
      "outputs": [
        {
          "output_type": "stream",
          "name": "stdout",
          "text": [
            "no     36538\n",
            "yes     4640\n",
            "Name: subscribed, dtype: int64\n",
            "no     0.887318\n",
            "yes    0.112682\n",
            "Name: subscribed, dtype: float64\n"
          ]
        }
      ]
    },
    {
      "cell_type": "markdown",
      "source": [
        "The first thing to note is that we have 88% of people have not subscribed. As our task is a classification task and we have an extremely unbalanced dataset we can instantly assume accuracy will not be an appropriate metric for our models to follow."
      ],
      "metadata": {
        "id": "zUoSfWWq1ryt"
      }
    },
    {
      "cell_type": "markdown",
      "source": [
        "lets plot some charts to visualise all of our features and how they are related to our dependent variable."
      ],
      "metadata": {
        "id": "ZH6CK8lNiVcb"
      }
    },
    {
      "cell_type": "code",
      "source": [
        "class UnderstandingData:\n",
        "    \n",
        "    def __init__(self, raw_df):\n",
        "        self.raw_df = raw_df\n",
        "        self.raw_df_grouped = raw_df.groupby(\"subscribed\")\n",
        "        self.class_name_no = \"no\"\n",
        "        self.class_name_yes = \"yes\"\n",
        "        self.raw_df_grouped_no = self.raw_df_grouped.get_group(self.class_name_no)\n",
        "        self.raw_df_grouped_yes = self.raw_df_grouped.get_group(self.class_name_yes)\n",
        "\n",
        "    def plot_histogram_continuous(self, feature_name, bin_size):\n",
        "        plt.figure()\n",
        "        plt.hist(self.raw_df_grouped_no[feature_name], bins=bin_size, label=self.class_name_no)\n",
        "        plt.hist(self.raw_df_grouped_yes[feature_name], bins=bin_size, label=self.class_name_yes)\n",
        "        plt.legend()\n",
        "        plt.title(\"Feature Histogram - \"+feature_name)\n",
        "        plt.xlabel(\"Feature values\")\n",
        "        plt.ylabel(\"Count\")\n",
        "\n",
        "    def plot_histogram_categorical(self, feature_name):\n",
        "        feature_df = pd.DataFrame()\n",
        "        feature_df[\"no\"] = self.raw_df_grouped_no[feature_name].value_counts()\n",
        "        feature_df[\"yes\"] = self.raw_df_grouped_yes[feature_name].value_counts()\n",
        "        \n",
        "        feature_df.plot(kind='bar')\n",
        "        plt.title(\"Feature Histogram - \"+feature_name)\n",
        "        plt.ylabel(\"Count\")\n",
        "        plt.xlabel(\"Feature unique values\")\n",
        "        plt.tight_layout()"
      ],
      "metadata": {
        "id": "JM0X0-zKyNXr"
      },
      "execution_count": null,
      "outputs": []
    },
    {
      "cell_type": "code",
      "source": [
        "understanding_data = UnderstandingData(totaldata)\n",
        "\n",
        "understanding_data.plot_histogram_continuous(\"age\",50)\n",
        "\n",
        "understanding_data.plot_histogram_categorical(\"job\")\n",
        "\n",
        "understanding_data.plot_histogram_categorical(\"marital\")\n",
        "\n",
        "understanding_data.plot_histogram_categorical(\"education\")\n",
        "\n",
        "understanding_data.plot_histogram_categorical(\"default\")\n",
        "\n",
        "understanding_data.plot_histogram_categorical(\"housing\")\n",
        "\n",
        "understanding_data.plot_histogram_categorical(\"loan\")\n",
        "\n",
        "understanding_data.plot_histogram_categorical(\"contact\")\n",
        "\n",
        "understanding_data.plot_histogram_categorical(\"month\")\n",
        "\n",
        "understanding_data.plot_histogram_categorical(\"day_of_week\")\n",
        "\n",
        "understanding_data.plot_histogram_continuous(\"campaign\", 30)\n",
        "\n",
        "understanding_data.plot_histogram_continuous(\"pdays\", 30)\n",
        "\n",
        "understanding_data.plot_histogram_categorical(\"previous\")\n",
        "\n",
        "understanding_data.plot_histogram_categorical(\"poutcome\")\n",
        "\n",
        "understanding_data.plot_histogram_continuous(\"emp.var.rate\", 50)\n",
        "\n",
        "understanding_data.plot_histogram_continuous(\"cons.price.idx\", 50)\n",
        "\n",
        "understanding_data.plot_histogram_continuous(\"cons.conf.idx\", 50)\n",
        "\n",
        "understanding_data.plot_histogram_continuous(\"euribor3m\", 50)\n",
        "\n",
        "understanding_data.plot_histogram_continuous(\"nr.employed\", 50)"
      ],
      "metadata": {
        "id": "eGUltJs_0p08",
        "colab": {
          "base_uri": "https://localhost:8080/",
          "height": 1000
        },
        "outputId": "bd511159-a3da-4737-a467-05ce0ce59152"
      },
      "execution_count": null,
      "outputs": [
        {
          "output_type": "display_data",
          "data": {
            "image/png": "[encoded data removed]",
            "text/plain": [
              "<Figure size 432x288 with 1 Axes>"
            ]
          },
          "metadata": {
            "needs_background": "light"
          }
        },
        {
          "output_type": "display_data",
          "data": {
            "image/png": "[encoded data removed]",
            "text/plain": [
              "<Figure size 432x288 with 1 Axes>"
            ]
          },
          "metadata": {
            "needs_background": "light"
          }
        },
        {
          "output_type": "display_data",
          "data": {
            "image/png": "[encoded data removed]",
            "text/plain": [
              "<Figure size 432x288 with 1 Axes>"
            ]
          },
          "metadata": {
            "needs_background": "light"
          }
        },
        {
          "output_type": "display_data",
          "data": {
            "image/png": "[encoded data removed]",
            "text/plain": [
              "<Figure size 432x288 with 1 Axes>"
            ]
          },
          "metadata": {
            "needs_background": "light"
          }
        },
        {
          "output_type": "display_data",
          "data": {
            "image/png": "[encoded data removed]",
            "text/plain": [
              "<Figure size 432x288 with 1 Axes>"
            ]
          },
          "metadata": {
            "needs_background": "light"
          }
        },
        {
          "output_type": "display_data",
          "data": {
            "image/png": "[encoded data removed]",
            "text/plain": [
              "<Figure size 432x288 with 1 Axes>"
            ]
          },
          "metadata": {
            "needs_background": "light"
          }
        },
        {
          "output_type": "display_data",
          "data": {
            "image/png": "[encoded data removed]",
            "text/plain": [
              "<Figure size 432x288 with 1 Axes>"
            ]
          },
          "metadata": {
            "needs_background": "light"
          }
        },
        {
          "output_type": "display_data",
          "data": {
            "image/png": "[encoded data removed]",
            "text/plain": [
              "<Figure size 432x288 with 1 Axes>"
            ]
          },
          "metadata": {
            "needs_background": "light"
          }
        },
        {
          "output_type": "display_data",
          "data": {
            "image/png": "[encoded data removed]",
            "text/plain": [
              "<Figure size 432x288 with 1 Axes>"
            ]
          },
          "metadata": {
            "needs_background": "light"
          }
        },
        {
          "output_type": "display_data",
          "data": {
            "image/png": "[encoded data removed]",
            "text/plain": [
              "<Figure size 432x288 with 1 Axes>"
            ]
          },
          "metadata": {
            "needs_background": "light"
          }
        },
        {
          "output_type": "display_data",
          "data": {
            "image/png": "[encoded data removed]",
            "text/plain": [
              "<Figure size 432x288 with 1 Axes>"
            ]
          },
          "metadata": {
            "needs_background": "light"
          }
        },
        {
          "output_type": "display_data",
          "data": {
            "image/png": "[encoded data removed]",
            "text/plain": [
              "<Figure size 432x288 with 1 Axes>"
            ]
          },
          "metadata": {
            "needs_background": "light"
          }
        },
        {
          "output_type": "display_data",
          "data": {
            "image/png": "[encoded data removed]",
            "text/plain": [
              "<Figure size 432x288 with 1 Axes>"
            ]
          },
          "metadata": {
            "needs_background": "light"
          }
        },
        {
          "output_type": "display_data",
          "data": {
            "image/png": "[encoded data removed]",
            "text/plain": [
              "<Figure size 432x288 with 1 Axes>"
            ]
          },
          "metadata": {
            "needs_background": "light"
          }
        },
        {
          "output_type": "display_data",
          "data": {
            "image/png": "[encoded data removed]",
            "text/plain": [
              "<Figure size 432x288 with 1 Axes>"
            ]
          },
          "metadata": {
            "needs_background": "light"
          }
        },
        {
          "output_type": "display_data",
          "data": {
            "image/png": "[encoded data removed]",
            "text/plain": [
              "<Figure size 432x288 with 1 Axes>"
            ]
          },
          "metadata": {
            "needs_background": "light"
          }
        },
        {
          "output_type": "display_data",
          "data": {
            "image/png": "[encoded data removed]",
            "text/plain": [
              "<Figure size 432x288 with 1 Axes>"
            ]
          },
          "metadata": {
            "needs_background": "light"
          }
        },
        {
          "output_type": "display_data",
          "data": {
            "image/png": "[encoded data removed]",
            "text/plain": [
              "<Figure size 432x288 with 1 Axes>"
            ]
          },
          "metadata": {
            "needs_background": "light"
          }
        },
        {
          "output_type": "display_data",
          "data": {
            "image/png": "[encoded data removed]",
            "text/plain": [
              "<Figure size 432x288 with 1 Axes>"
            ]
          },
          "metadata": {
            "needs_background": "light"
          }
        }
      ]
    },
    {
      "cell_type": "code",
      "source": [
        "totaldata.dtypes"
      ],
      "metadata": {
        "id": "PFScfBaAZMOt",
        "colab": {
          "base_uri": "https://localhost:8080/"
        },
        "outputId": "9af8f5c2-1fb7-4aaa-e7d7-2688e8ca85cc"
      },
      "execution_count": null,
      "outputs": [
        {
          "output_type": "execute_result",
          "data": {
            "text/plain": [
              "cust_id           float64\n",
              "age               float64\n",
              "job                object\n",
              "marital            object\n",
              "education          object\n",
              "default            object\n",
              "housing            object\n",
              "loan               object\n",
              "contact            object\n",
              "month              object\n",
              "day_of_week        object\n",
              "duration          float64\n",
              "campaign          float64\n",
              "emp.var.rate      float64\n",
              "cons.price.idx    float64\n",
              "cons.conf.idx     float64\n",
              "euribor3m         float64\n",
              "nr.employed       float64\n",
              "subscribed         object\n",
              "pdays             float64\n",
              "previous          float64\n",
              "poutcome           object\n",
              "dtype: object"
            ]
          },
          "metadata": {},
          "execution_count": 12
        }
      ]
    },
    {
      "cell_type": "code",
      "source": [
        "totaldata.isna().sum()"
      ],
      "metadata": {
        "id": "f_tWW88XVOFa",
        "colab": {
          "base_uri": "https://localhost:8080/"
        },
        "outputId": "2f7071e1-8280-47e7-b1e8-996d830a8d80"
      },
      "execution_count": null,
      "outputs": [
        {
          "output_type": "execute_result",
          "data": {
            "text/plain": [
              "cust_id           0\n",
              "age               0\n",
              "job               0\n",
              "marital           0\n",
              "education         0\n",
              "default           0\n",
              "housing           0\n",
              "loan              0\n",
              "contact           0\n",
              "month             0\n",
              "day_of_week       0\n",
              "duration          0\n",
              "campaign          0\n",
              "emp.var.rate      0\n",
              "cons.price.idx    0\n",
              "cons.conf.idx     0\n",
              "euribor3m         0\n",
              "nr.employed       0\n",
              "subscribed        0\n",
              "pdays             0\n",
              "previous          0\n",
              "poutcome          0\n",
              "dtype: int64"
            ]
          },
          "metadata": {},
          "execution_count": 13
        }
      ]
    },
    {
      "cell_type": "markdown",
      "source": [
        "There are no Null values so we do not need to impute. 11/22 categories are object types that must be converted into numerical to be used with machine learning models. First we need to check which categories contained unknown values and fill these in."
      ],
      "metadata": {
        "id": "fz0rTTDrWjMC"
      }
    },
    {
      "cell_type": "code",
      "source": [
        "totaldata.replace('unknown',np.NaN,inplace=True)\n",
        "totaldata.isna().sum()"
      ],
      "metadata": {
        "id": "LDRVMXJOWnh6",
        "colab": {
          "base_uri": "https://localhost:8080/"
        },
        "outputId": "be4bd537-37e4-4b4f-86d6-805600e0e594"
      },
      "execution_count": null,
      "outputs": [
        {
          "output_type": "execute_result",
          "data": {
            "text/plain": [
              "cust_id              0\n",
              "age                  0\n",
              "job                330\n",
              "marital             80\n",
              "education         1730\n",
              "default           8596\n",
              "housing            990\n",
              "loan               990\n",
              "contact              0\n",
              "month                0\n",
              "day_of_week          0\n",
              "duration             0\n",
              "campaign             0\n",
              "emp.var.rate         0\n",
              "cons.price.idx       0\n",
              "cons.conf.idx        0\n",
              "euribor3m            0\n",
              "nr.employed          0\n",
              "subscribed           0\n",
              "pdays                0\n",
              "previous             0\n",
              "poutcome             0\n",
              "dtype: int64"
            ]
          },
          "metadata": {},
          "execution_count": 14
        }
      ]
    },
    {
      "cell_type": "markdown",
      "source": [
        "We can see now that 5 of the columns from maindata contained unknown values. These can be filled using a Decision Tree. To fill the main data first we create a function that will convert categories for all of the object features into numerical using astype.cat.codes. They we use function fillUnknown to specify what columns we want to convert. Unknown values are represented as 0 which are converted using a decision tree."
      ],
      "metadata": {
        "id": "vpZWSOKkXJXL"
      }
    },
    {
      "cell_type": "code",
      "source": [
        "from sklearn.tree import DecisionTreeClassifier\n",
        "\n",
        "def makeCategories(dataframe,columns):\n",
        "  for column in columns:\n",
        "    dataframe[column] = dataframe[column].astype(\"category\").cat.codes\n",
        "  return dataframe\n",
        "\n",
        "def fillUnknown(dataframe, missingColumns):\n",
        "  dataframe1=dataframe.copy()\n",
        "  for column in missingColumns:\n",
        "    dataframe1=makeCategories(dataframe1,[\"job\",\"marital\",\"education\",\"default\",\"housing\",\"loan\",\"contact\",\"month\",\"day_of_week\",\"subscribed\",\"poutcome\"])\n",
        "    tree=DecisionTreeClassifier()\n",
        "    test=dataframe1[dataframe1[column]==0]#test is data 'unknown'\n",
        "    train=dataframe1[dataframe1[column]!=0]#train is all other values\n",
        "    tree.fit(train.drop(column,axis=1),train[column])\n",
        "    test.loc[:,column]=tree.predict(test.drop(column,axis=1))\n",
        "    dataframe1=train.append(test)\n",
        "    dataframe.replace(0,np.NaN,inplace=True)\n",
        "  \n",
        "  return dataframe1"
      ],
      "metadata": {
        "id": "jG9MLxb_XopE"
      },
      "execution_count": null,
      "outputs": []
    },
    {
      "cell_type": "code",
      "source": [
        "totaldata1=fillUnknown(totaldata.copy(),[\"job\",\"marital\",\"education\",\"default\",\"housing\",\"loan\"])\n",
        "print(totaldata1)\n",
        "totaldata1.dtypes"
      ],
      "metadata": {
        "id": "lcA35n9FbWhh",
        "colab": {
          "base_uri": "https://localhost:8080/"
        },
        "outputId": "ed35a961-e6ab-4a41-b91a-aa77702482fe"
      },
      "execution_count": null,
      "outputs": [
        {
          "output_type": "stream",
          "name": "stderr",
          "text": [
            "/usr/local/lib/python3.7/dist-packages/pandas/core/indexing.py:1773: SettingWithCopyWarning: \n",
            "A value is trying to be set on a copy of a slice from a DataFrame.\n",
            "Try using .loc[row_indexer,col_indexer] = value instead\n",
            "\n",
            "See the caveats in the documentation: https://pandas.pydata.org/pandas-docs/stable/user_guide/indexing.html#returning-a-view-versus-a-copy\n",
            "  self._setitem_single_column(ilocs[0], value, pi)\n",
            "/usr/local/lib/python3.7/dist-packages/pandas/core/indexing.py:1773: SettingWithCopyWarning: \n",
            "A value is trying to be set on a copy of a slice from a DataFrame.\n",
            "Try using .loc[row_indexer,col_indexer] = value instead\n",
            "\n",
            "See the caveats in the documentation: https://pandas.pydata.org/pandas-docs/stable/user_guide/indexing.html#returning-a-view-versus-a-copy\n",
            "  self._setitem_single_column(ilocs[0], value, pi)\n",
            "/usr/local/lib/python3.7/dist-packages/pandas/core/indexing.py:1773: SettingWithCopyWarning: \n",
            "A value is trying to be set on a copy of a slice from a DataFrame.\n",
            "Try using .loc[row_indexer,col_indexer] = value instead\n",
            "\n",
            "See the caveats in the documentation: https://pandas.pydata.org/pandas-docs/stable/user_guide/indexing.html#returning-a-view-versus-a-copy\n",
            "  self._setitem_single_column(ilocs[0], value, pi)\n",
            "/usr/local/lib/python3.7/dist-packages/pandas/core/indexing.py:1773: SettingWithCopyWarning: \n",
            "A value is trying to be set on a copy of a slice from a DataFrame.\n",
            "Try using .loc[row_indexer,col_indexer] = value instead\n",
            "\n",
            "See the caveats in the documentation: https://pandas.pydata.org/pandas-docs/stable/user_guide/indexing.html#returning-a-view-versus-a-copy\n",
            "  self._setitem_single_column(ilocs[0], value, pi)\n",
            "/usr/local/lib/python3.7/dist-packages/pandas/core/indexing.py:1773: SettingWithCopyWarning: \n",
            "A value is trying to be set on a copy of a slice from a DataFrame.\n",
            "Try using .loc[row_indexer,col_indexer] = value instead\n",
            "\n",
            "See the caveats in the documentation: https://pandas.pydata.org/pandas-docs/stable/user_guide/indexing.html#returning-a-view-versus-a-copy\n",
            "  self._setitem_single_column(ilocs[0], value, pi)\n"
          ]
        },
        {
          "output_type": "stream",
          "name": "stdout",
          "text": [
            "       cust_id   age  job  marital  ...  subscribed  pdays  previous  poutcome\n",
            "2      26145.0  29.0    7        1  ...           0  999.0       0.0         1\n",
            "3      11224.0  31.0    1        1  ...           0  999.0       0.0         1\n",
            "5      29864.0  56.0    5        0  ...           0  999.0       0.0         1\n",
            "6      23328.0  42.0    4        1  ...           0  999.0       0.0         1\n",
            "7      17901.0  31.0    1        2  ...           0  999.0       0.0         1\n",
            "...        ...   ...  ...      ...  ...         ...    ...       ...       ...\n",
            "37274   7330.0  42.0    1        1  ...           0  999.0       0.0         1\n",
            "38716  10924.0  51.0    1        0  ...           0  999.0       0.0         1\n",
            "38752  16842.0  53.0    1        1  ...           0  999.0       0.0         1\n",
            "1213   22420.0  56.0    5        1  ...           0  999.0       0.0         1\n",
            "15145  10642.0  49.0    1        2  ...           0  999.0       0.0         1\n",
            "\n",
            "[41178 rows x 22 columns]\n"
          ]
        },
        {
          "output_type": "stream",
          "name": "stderr",
          "text": [
            "/usr/local/lib/python3.7/dist-packages/pandas/core/indexing.py:1773: SettingWithCopyWarning: \n",
            "A value is trying to be set on a copy of a slice from a DataFrame.\n",
            "Try using .loc[row_indexer,col_indexer] = value instead\n",
            "\n",
            "See the caveats in the documentation: https://pandas.pydata.org/pandas-docs/stable/user_guide/indexing.html#returning-a-view-versus-a-copy\n",
            "  self._setitem_single_column(ilocs[0], value, pi)\n"
          ]
        },
        {
          "output_type": "execute_result",
          "data": {
            "text/plain": [
              "cust_id           float64\n",
              "age               float64\n",
              "job                  int8\n",
              "marital              int8\n",
              "education            int8\n",
              "default              int8\n",
              "housing              int8\n",
              "loan                 int8\n",
              "contact              int8\n",
              "month                int8\n",
              "day_of_week          int8\n",
              "duration          float64\n",
              "campaign          float64\n",
              "emp.var.rate      float64\n",
              "cons.price.idx    float64\n",
              "cons.conf.idx     float64\n",
              "euribor3m         float64\n",
              "nr.employed       float64\n",
              "subscribed           int8\n",
              "pdays             float64\n",
              "previous          float64\n",
              "poutcome             int8\n",
              "dtype: object"
            ]
          },
          "metadata": {},
          "execution_count": 16
        }
      ]
    },
    {
      "cell_type": "markdown",
      "source": [
        "Now we have our main data such that all object features are now numerical. We need to create dummy variables for all the previous 'object' columns such that each feature becomes a binary category. These are the features marked above that now have int8 as their return value."
      ],
      "metadata": {
        "id": "wXH8hWs2l55c"
      }
    },
    {
      "cell_type": "code",
      "source": [
        "categoryColumns = [\"job\",\"marital\",\"education\",\"default\",\"housing\",\"loan\",\"contact\",\"month\",\"day_of_week\",\"poutcome\"]\n",
        "\n",
        "for column in categoryColumns:\n",
        "  totaldata1=totaldata1.join(pd.get_dummies(totaldata1[column],prefix=column),how='left',lsuffix='left',rsuffix='right')\n",
        "\n",
        "dummyColumns=[column for column in totaldata1.columns if column not in categoryColumns]\n",
        "totaldata1=totaldata1[dummyColumns]\n",
        "\n",
        "totaldata1[\"subscribed\"]=totaldata1.subscribed.astype(\"category\")\n",
        "totaldata1[\"subscribed\"]=totaldata1[\"subscribed\"].cat.codes\n",
        "totaldata1.shape"
      ],
      "metadata": {
        "id": "DW1LRoUDu20B",
        "colab": {
          "base_uri": "https://localhost:8080/"
        },
        "outputId": "4259c106-ffc9-4dcd-8ae0-405fb7a7ad81"
      },
      "execution_count": null,
      "outputs": [
        {
          "output_type": "execute_result",
          "data": {
            "text/plain": [
              "(41178, 59)"
            ]
          },
          "metadata": {},
          "execution_count": 17
        }
      ]
    },
    {
      "cell_type": "markdown",
      "source": [
        "We now have our processed data, 59 features that can be used to predict uptake of our dependent variable 'subscribed'. We now need to split the data into train and test."
      ],
      "metadata": {
        "id": "_VT78ln0z23s"
      }
    },
    {
      "cell_type": "code",
      "source": [
        "data_x=totaldata1.drop([\"subscribed\"],axis=1)\n",
        "data_x=data_x.drop([\"cust_id\"],axis=1)\n",
        "data_y=totaldata1[\"subscribed\"]\n",
        "print(data_x)\n",
        "print(data_y)"
      ],
      "metadata": {
        "id": "Z29ExO6mrWDq",
        "colab": {
          "base_uri": "https://localhost:8080/"
        },
        "outputId": "27c0bb34-b1bf-462a-af27-2634864c9983"
      },
      "execution_count": null,
      "outputs": [
        {
          "output_type": "stream",
          "name": "stdout",
          "text": [
            "        age  duration  campaign  ...  poutcome_0  poutcome_1  poutcome_2\n",
            "2      29.0     314.0       2.0  ...           0           1           0\n",
            "3      31.0     217.0       2.0  ...           0           1           0\n",
            "5      56.0     529.0       3.0  ...           0           1           0\n",
            "6      42.0     220.0      11.0  ...           0           1           0\n",
            "7      31.0     171.0      13.0  ...           0           1           0\n",
            "...     ...       ...       ...  ...         ...         ...         ...\n",
            "37274  42.0     311.0       4.0  ...           0           1           0\n",
            "38716  51.0     339.0       2.0  ...           0           1           0\n",
            "38752  53.0     747.0       1.0  ...           0           1           0\n",
            "1213   56.0     119.0       1.0  ...           0           1           0\n",
            "15145  49.0     479.0       1.0  ...           0           1           0\n",
            "\n",
            "[41178 rows x 57 columns]\n",
            "2        0\n",
            "3        0\n",
            "5        0\n",
            "6        0\n",
            "7        0\n",
            "        ..\n",
            "37274    0\n",
            "38716    0\n",
            "38752    0\n",
            "1213     0\n",
            "15145    0\n",
            "Name: subscribed, Length: 41178, dtype: int8\n"
          ]
        }
      ]
    },
    {
      "cell_type": "markdown",
      "source": [
        "We've dropped cus_id as it has no relationship with our dependent variable. Now we're going to create train and test sets."
      ],
      "metadata": {
        "id": "JADjFlNYwlkN"
      }
    },
    {
      "cell_type": "code",
      "source": [
        "from sklearn.model_selection import train_test_split\n",
        "\n",
        "X_train, X_test, y_train, y_test= train_test_split(data_x, data_y, test_size=0.2, random_state=0)\n",
        "\n",
        "print(\"X Train\", X_train.shape)\n",
        "print(\"X Test\", X_test.shape)\n",
        "print(\"Y Train\", y_train.shape)\n",
        "print(\"Y Test\", y_test.shape)"
      ],
      "metadata": {
        "id": "NRoAoaZcxAkS",
        "colab": {
          "base_uri": "https://localhost:8080/"
        },
        "outputId": "1bff5a57-796c-46e0-c973-37febb57bc8d"
      },
      "execution_count": null,
      "outputs": [
        {
          "output_type": "stream",
          "name": "stdout",
          "text": [
            "X Train (32942, 57)\n",
            "X Test (8236, 57)\n",
            "Y Train (32942,)\n",
            "Y Test (8236,)\n"
          ]
        }
      ]
    },
    {
      "cell_type": "markdown",
      "source": [
        "Now lets run our data through a logistic regression model and see what the results show. First we need to optimise our 'C' value which is our regularization term, smaller=stronger. We do this against the metric 'recall' as this is our models ability to predict correctly if a customer will subscribe to the deal."
      ],
      "metadata": {
        "id": "xplppkfk5zno"
      }
    },
    {
      "cell_type": "code",
      "source": [
        "from sklearn.linear_model import LogisticRegression\n",
        "from sklearn import metrics\n",
        "from sklearn.metrics import accuracy_score\n",
        "from sklearn.metrics import confusion_matrix\n",
        "from sklearn.model_selection import GridSearchCV\n",
        "from numpy import mean\n",
        "from numpy import std\n",
        "\n",
        "logistic_regression=LogisticRegression(max_iter=150)\n",
        "\n",
        "grid = dict()\n",
        "grid['C'] = [1, 2, 3, 4, 5]\n",
        "search = GridSearchCV(logistic_regression, grid, scoring='precision', cv=5, n_jobs=-1)\n",
        "results = search.fit(X_train, y_train)\n",
        "print('Mean Recall: %.5f' % results.best_score_)\n",
        "print('Config: %s' % results.best_params_)\n",
        "means = results.cv_results_['mean_test_score']\n",
        "params = results.cv_results_['params']\n",
        "for mean, param in zip(means, params):\n",
        "  print(\">%.5f with: %r\" % (mean,param))"
      ],
      "metadata": {
        "id": "MymwqIOMIaOX"
      },
      "execution_count": null,
      "outputs": []
    },
    {
      "cell_type": "code",
      "source": [
        "logistic_regression=LogisticRegression(penalty=\"l2\",max_iter=1000,class_weight=\"balanced\",C=5)\n",
        "logistic_regression.fit(X_train,y_train)\n",
        "\n",
        "y_pred=logistic_regression.predict(X_test)\n",
        "\n",
        "confusion_matrix1=confusion_matrix(y_test,y_pred)\n",
        "confusion_matrix2=pd.crosstab(y_test,y_pred,rownames=['Actual'],colnames=['Predicted'],normalize=False)\n",
        "sn.heatmap(confusion_matrix2,annot=True)\n",
        "\n",
        "print('Accuracy: ', metrics.accuracy_score(y_test,y_pred))\n",
        "plt.show()\n",
        "print(confusion_matrix1)"
      ],
      "metadata": {
        "id": "DwIN4Y6f55J1",
        "colab": {
          "base_uri": "https://localhost:8080/",
          "height": 470
        },
        "outputId": "d0b4caa3-a1af-4e8a-8f9c-7c47f2b5ccd5"
      },
      "execution_count": null,
      "outputs": [
        {
          "output_type": "stream",
          "name": "stderr",
          "text": [
            "/usr/local/lib/python3.7/dist-packages/sklearn/linear_model/_logistic.py:818: ConvergenceWarning: lbfgs failed to converge (status=1):\n",
            "STOP: TOTAL NO. of ITERATIONS REACHED LIMIT.\n",
            "\n",
            "Increase the number of iterations (max_iter) or scale the data as shown in:\n",
            "    https://scikit-learn.org/stable/modules/preprocessing.html\n",
            "Please also refer to the documentation for alternative solver options:\n",
            "    https://scikit-learn.org/stable/modules/linear_model.html#logistic-regression\n",
            "  extra_warning_msg=_LOGISTIC_SOLVER_CONVERGENCE_MSG,\n"
          ]
        },
        {
          "output_type": "stream",
          "name": "stdout",
          "text": [
            "Accuracy:  0.8566051481301603\n"
          ]
        },
        {
          "output_type": "display_data",
          "data": {
            "image/png": "[encoded data removed]",
            "text/plain": [
              "<Figure size 432x288 with 2 Axes>"
            ]
          },
          "metadata": {
            "needs_background": "light"
          }
        },
        {
          "output_type": "stream",
          "name": "stdout",
          "text": [
            "[[6240 1074]\n",
            " [ 107  815]]\n"
          ]
        }
      ]
    },
    {
      "cell_type": "code",
      "source": [
        "precision=817/(817+1074)\n",
        "recall=817/(817+105)\n",
        "F1=(2*precision*recall)/(precision+recall)\n",
        "posPredict=(6240/(6240+1074))\n",
        "\n",
        "print(precision)\n",
        "print(recall)\n",
        "print(F1)\n",
        "print(posPredict)"
      ],
      "metadata": {
        "id": "pWRP0v1y3F9-",
        "colab": {
          "base_uri": "https://localhost:8080/"
        },
        "outputId": "683e2a71-993b-40fc-d561-6db3fc81f5ee"
      },
      "execution_count": null,
      "outputs": [
        {
          "output_type": "stream",
          "name": "stdout",
          "text": [
            "0.43204653622422\n",
            "0.886117136659436\n",
            "0.5808745111980093\n",
            "0.8531583264971287\n"
          ]
        }
      ]
    },
    {
      "cell_type": "code",
      "source": [
        "from sklearn.datasets import make_classification\n",
        "\n",
        "data_x, data_y = make_classification(n_samples=32942,n_features=58,n_informative=20,n_redundant=38,random_state=1)\n",
        "\n",
        "model=LogisticRegression(penalty=\"l2\",max_iter=1000,class_weight=\"balanced\",C=5)\n",
        "model.fit(data_x,data_y)\n",
        "importance=model.coef_[0]\n",
        "for i,v in enumerate(importance):\n",
        "  print('Feature. %0d, Score: %.5f' % (i,v))\n",
        "\n",
        "plt.bar([x for x in range(len(importance))], importance)\n",
        "plt.show()"
      ],
      "metadata": {
        "id": "xLHbFLPEpxcD",
        "colab": {
          "base_uri": "https://localhost:8080/",
          "height": 1000
        },
        "outputId": "f7094d17-03c6-40cc-fc85-5a62e1cbe34f"
      },
      "execution_count": null,
      "outputs": [
        {
          "output_type": "stream",
          "name": "stdout",
          "text": [
            "Feature. 0, Score: 0.05621\n",
            "Feature. 1, Score: 0.02314\n",
            "Feature. 2, Score: 0.09874\n",
            "Feature. 3, Score: 0.01693\n",
            "Feature. 4, Score: -0.00509\n",
            "Feature. 5, Score: -0.02872\n",
            "Feature. 6, Score: -0.03809\n",
            "Feature. 7, Score: -0.03928\n",
            "Feature. 8, Score: 0.01472\n",
            "Feature. 9, Score: 0.03855\n",
            "Feature. 10, Score: -0.01262\n",
            "Feature. 11, Score: 0.01896\n",
            "Feature. 12, Score: -0.04514\n",
            "Feature. 13, Score: 0.03273\n",
            "Feature. 14, Score: 0.05390\n",
            "Feature. 15, Score: -0.02696\n",
            "Feature. 16, Score: -0.05281\n",
            "Feature. 17, Score: -0.04446\n",
            "Feature. 18, Score: -0.00662\n",
            "Feature. 19, Score: -0.01032\n",
            "Feature. 20, Score: -0.09136\n",
            "Feature. 21, Score: -0.01921\n",
            "Feature. 22, Score: 0.02234\n",
            "Feature. 23, Score: -0.00432\n",
            "Feature. 24, Score: -0.09529\n",
            "Feature. 25, Score: 0.02118\n",
            "Feature. 26, Score: 0.07194\n",
            "Feature. 27, Score: -0.03557\n",
            "Feature. 28, Score: -0.00716\n",
            "Feature. 29, Score: 0.03590\n",
            "Feature. 30, Score: 0.00831\n",
            "Feature. 31, Score: -0.01120\n",
            "Feature. 32, Score: 0.01638\n",
            "Feature. 33, Score: 0.02412\n",
            "Feature. 34, Score: 0.02389\n",
            "Feature. 35, Score: -0.05420\n",
            "Feature. 36, Score: 0.08900\n",
            "Feature. 37, Score: 0.02172\n",
            "Feature. 38, Score: 0.04483\n",
            "Feature. 39, Score: -0.03284\n",
            "Feature. 40, Score: -0.00597\n",
            "Feature. 41, Score: -0.01455\n",
            "Feature. 42, Score: -0.06612\n",
            "Feature. 43, Score: -0.00409\n",
            "Feature. 44, Score: 0.04456\n",
            "Feature. 45, Score: -0.08057\n",
            "Feature. 46, Score: 0.04846\n",
            "Feature. 47, Score: -0.02440\n",
            "Feature. 48, Score: -0.07416\n",
            "Feature. 49, Score: -0.00250\n",
            "Feature. 50, Score: 0.01504\n",
            "Feature. 51, Score: -0.01890\n",
            "Feature. 52, Score: -0.10243\n",
            "Feature. 53, Score: 0.02710\n",
            "Feature. 54, Score: -0.03875\n",
            "Feature. 55, Score: 0.00230\n",
            "Feature. 56, Score: -0.08580\n",
            "Feature. 57, Score: 0.06514\n"
          ]
        },
        {
          "output_type": "display_data",
          "data": {
            "image/png": "[encoded data removed]",
            "text/plain": [
              "<Figure size 432x288 with 1 Axes>"
            ]
          },
          "metadata": {
            "needs_background": "light"
          }
        }
      ]
    },
    {
      "cell_type": "code",
      "source": [
        "from sklearn.linear_model import Perceptron\n",
        "from sklearn.model_selection import RepeatedStratifiedKFold\n",
        "\n",
        "MLPerceptron = Perceptron(eta0=0.00001)\n",
        "MLPerceptron = Perceptron(max_iter=100)\n",
        "MLPerceptron.fit(X_train, y_train)\n",
        "\n",
        "grid = dict()\n",
        "grid['eta0'] = [0.00001, 0.0001, 0.001, 0.01, 0.1]\n",
        "cv = RepeatedStratifiedKFold(n_splits = 64, n_repeats = 5, random_state=1)\n",
        "search = GridSearchCV(MLPerceptron, grid, scoring='recall', cv=cv, n_jobs=-1)\n",
        "results = search.fit(X_train, y_train)\n",
        "print('Mean Recall: %.5f' % results.best_score_)\n",
        "print('Config: %s' % results.best_params_)\n",
        "means = results.cv_results_['mean_test_score']\n",
        "params = results.cv_results_['params']\n",
        "for mean, param in zip(means, params):\n",
        "  print(\">%.5f with: %r\" % (mean,param))"
      ],
      "metadata": {
        "id": "ihKTpZ0tAfE8",
        "colab": {
          "base_uri": "https://localhost:8080/"
        },
        "outputId": "f2d88685-60d0-4c84-af8e-72274b7fffa1"
      },
      "execution_count": null,
      "outputs": [
        {
          "output_type": "stream",
          "name": "stdout",
          "text": [
            "Mean Recall: 0.30183\n",
            "Config: {'eta0': 1e-05}\n",
            ">0.30183 with: {'eta0': 1e-05}\n",
            ">0.29967 with: {'eta0': 0.0001}\n",
            ">0.29967 with: {'eta0': 0.001}\n",
            ">0.29967 with: {'eta0': 0.01}\n",
            ">0.29967 with: {'eta0': 0.1}\n"
          ]
        }
      ]
    },
    {
      "cell_type": "code",
      "source": [
        "from sklearn.model_selection import cross_val_score\n",
        "\n",
        "MLPerceptron = Perceptron(eta0=0.00001)\n",
        "MLPerceptron = Perceptron(max_iter=100)\n",
        "MLPerceptron.fit(X_train, y_train)\n",
        "\n",
        "cv = RepeatedStratifiedKFold(n_splits = 241, n_repeats = 5, random_state=1)\n",
        "scores = cross_val_score(MLPerceptron, X_train, y_train, scoring='accuracy', cv=cv, n_jobs=-1)\n",
        "print('Mean Accuracy: %.5f (%.5f)' % (np.mean(scores), np.std(scores)))\n",
        "\n",
        "testPredictions = MLPerceptron.predict(X_test)\n",
        "testPredictions = pd.DataFrame(testPredictions)\n",
        "\n",
        "\n",
        "confusion_matrix1=confusion_matrix(y_test,testPredictions)\n",
        "\n",
        "print('Accuracy: ', metrics.accuracy_score(y_test,y_pred))\n",
        "print(confusion_matrix1)"
      ],
      "metadata": {
        "id": "G23H8jlRGGZc",
        "colab": {
          "base_uri": "https://localhost:8080/"
        },
        "outputId": "39f7a4a9-d04a-416f-8e04-0a6b246a6ed5"
      },
      "execution_count": null,
      "outputs": [
        {
          "output_type": "stream",
          "name": "stdout",
          "text": [
            "Mean Accuracy: 0.85751 (0.14450)\n",
            "Accuracy:  0.8566051481301603\n",
            "[[7305    9]\n",
            " [ 878   44]]\n"
          ]
        }
      ]
    },
    {
      "cell_type": "code",
      "source": [
        "precision=44/(44+9)\n",
        "recall=44/(44+878)\n",
        "F1=(2*precision*recall)/(precision+recall)\n",
        "posPredict=(7305/(7305+9))\n",
        "\n",
        "print(precision)\n",
        "print(recall)\n",
        "print(F1)\n",
        "print(posPredict)"
      ],
      "metadata": {
        "id": "_SOcZrzKIFDF",
        "colab": {
          "base_uri": "https://localhost:8080/"
        },
        "outputId": "95aad0db-048e-472b-c9e3-3adc1419f1cb"
      },
      "execution_count": null,
      "outputs": [
        {
          "output_type": "stream",
          "name": "stdout",
          "text": [
            "0.8301886792452831\n",
            "0.04772234273318872\n",
            "0.09025641025641025\n",
            "0.9987694831829368\n"
          ]
        }
      ]
    }
  ]
}